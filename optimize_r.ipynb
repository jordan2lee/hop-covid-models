{
 "cells": [
  {
   "cell_type": "code",
   "execution_count": 1,
   "metadata": {},
   "outputs": [],
   "source": [
    "import datetime\n",
    "import gripql\n",
    "import pandas"
   ]
  },
  {
   "cell_type": "code",
   "execution_count": 2,
   "metadata": {},
   "outputs": [],
   "source": [
    "conn = gripql.Connection(\"http://192.168.1.147:8201\")"
   ]
  },
  {
   "cell_type": "code",
   "execution_count": 3,
   "metadata": {},
   "outputs": [],
   "source": [
    "G  = conn.graph(\"covid\")"
   ]
  },
  {
   "cell_type": "code",
   "execution_count": 4,
   "metadata": {},
   "outputs": [
    {
     "name": "stderr",
     "output_type": "stream",
     "text": [
      "[INFO]\t2020-04-16 21:37:49,336\t2 results received in 0 seconds\n"
     ]
    },
    {
     "data": {
      "text/plain": [
       "[<AttrDict({'gid': '41051', 'label': 'SummaryLocation', 'data': {'county': 'Multnomah County', 'projects': [], 'province_state': 'OR', 'submitter_id': '41051', 'type': 'summary_location', 'zipcodes': ['97292', '97205', '97292', '97206', '97292', '97216', '97292', '97223', '97292', '97266', '97292', '97239', '97292', '97227', '97292', '97203', '97292', '97208', '97292', '97282', '97292', '97133', '97292', '97010', '97292', '97233', '97292', '97220', '97292', '97236', '97292', '97034', '97292', '97210', '97292', '97212', '97292', '97214', '97292', '97218', '97292', '97290', '97292', '97294', '97292', '97254', '97292', '97293', '97292', '97009', '97292', '97296', '97292', '97250', '97292', '97232', '97292', '97231', '97292', '97221', '97292', '97258', '97292', '97030', '97292', '97019', '97292', '97211', '97292', '97213', '97292', '97215', '97292', '97014', '97292', '97283', '97292', '97240', '97292', '97251', '97292', '97080', '97292', '97060', '97292', '97204', '97292', '97222', '97292', '97207', '97292', '97252', '97292', '97230', '97292', '97024', '97292', '97124', '97292', '97253', '97292', '97056', '97292', '97217', '97292', '97280', '97292', '97228', '97292', '97219', '97292', '97229', '97292', '97035', '97292', '97209', '97292', '97202', '97292', '97201', '97292', '97225', '97292', '97286', '97292', '97238', '97292', '97242']}})>,\n",
       " <AttrDict({'gid': '41067', 'label': 'SummaryLocation', 'data': {'county': 'Washington County', 'projects': [], 'province_state': 'OR', 'submitter_id': '41067', 'type': 'summary_location', 'zipcodes': ['97078', '97133', '97078', '97008', '97078', '97225', '97078', '97075', '97078', '97124', '97078', '97035', '97078', '97229', '97078', '97070', '97078', '97006', '97078', '97116', '97078', '97007', '97078', '97132', '97078', '97231', '97078', '97298', '97078', '97062', '97078', '97113', '97078', '97005', '97078', '97291', '97078', '97210', '97078', '97056', '97078', '97223', '97078', '97119', '97078', '97125', '97078', '97221', '97078', '97219', '97078', '97224', '97078', '97117', '97078', '97106', '97078', '97140', '97078', '97003', '97078', '97123', '97078', '97109', '97078', '97144', '97078', '97281']}})>]"
      ]
     },
     "execution_count": 4,
     "metadata": {},
     "output_type": "execute_result"
    }
   ],
   "source": [
    "G.query().V().hasLabel(\"SummaryLocation\").has(gripql.contains(\"zipcodes\", \"97229\")).execute()"
   ]
  },
  {
   "cell_type": "code",
   "execution_count": 5,
   "metadata": {},
   "outputs": [
    {
     "name": "stderr",
     "output_type": "stream",
     "text": [
      "[INFO]\t2020-04-16 21:37:49,367\t23 results received in 0 seconds\n"
     ]
    }
   ],
   "source": [
    "q = G.query().V(\"41067\").out(\"summary_reports\").render([\"date\", \"confirmed\", \"deaths\", \"recovered\"])\n",
    "\n",
    "data = {}\n",
    "for row in q:\n",
    "    d = datetime.datetime.strptime(row[0], \"%Y-%m-%d %H:%M:%S\")\n",
    "    data[d] = {\"confirmed\":int(row[1]), \"deaths\" : int(row[2]), \"recovered\":int(row[3])}"
   ]
  },
  {
   "cell_type": "code",
   "execution_count": 6,
   "metadata": {},
   "outputs": [],
   "source": [
    "df = pandas.DataFrame(data).transpose().sort_index()"
   ]
  },
  {
   "cell_type": "code",
   "execution_count": 7,
   "metadata": {},
   "outputs": [],
   "source": [
    "delta = pandas.Series( (df.index - df.index[0]).round(\"D\").astype('timedelta64[D]'), index=df.index, name=\"days\")"
   ]
  },
  {
   "cell_type": "code",
   "execution_count": 8,
   "metadata": {},
   "outputs": [],
   "source": [
    "ddf = df.join(delta)"
   ]
  },
  {
   "cell_type": "code",
   "execution_count": 9,
   "metadata": {},
   "outputs": [
    {
     "data": {
      "text/html": [
       "<div>\n",
       "<style scoped>\n",
       "    .dataframe tbody tr th:only-of-type {\n",
       "        vertical-align: middle;\n",
       "    }\n",
       "\n",
       "    .dataframe tbody tr th {\n",
       "        vertical-align: top;\n",
       "    }\n",
       "\n",
       "    .dataframe thead th {\n",
       "        text-align: right;\n",
       "    }\n",
       "</style>\n",
       "<table border=\"1\" class=\"dataframe\">\n",
       "  <thead>\n",
       "    <tr style=\"text-align: right;\">\n",
       "      <th></th>\n",
       "      <th>confirmed</th>\n",
       "      <th>deaths</th>\n",
       "      <th>recovered</th>\n",
       "      <th>days</th>\n",
       "    </tr>\n",
       "  </thead>\n",
       "  <tbody>\n",
       "    <tr>\n",
       "      <th>2020-03-23 23:19:34</th>\n",
       "      <td>69</td>\n",
       "      <td>1</td>\n",
       "      <td>0</td>\n",
       "      <td>0</td>\n",
       "    </tr>\n",
       "    <tr>\n",
       "      <th>2020-03-24 23:37:31</th>\n",
       "      <td>76</td>\n",
       "      <td>2</td>\n",
       "      <td>0</td>\n",
       "      <td>1</td>\n",
       "    </tr>\n",
       "    <tr>\n",
       "      <th>2020-03-25 23:33:19</th>\n",
       "      <td>96</td>\n",
       "      <td>2</td>\n",
       "      <td>0</td>\n",
       "      <td>2</td>\n",
       "    </tr>\n",
       "    <tr>\n",
       "      <th>2020-03-26 23:48:35</th>\n",
       "      <td>104</td>\n",
       "      <td>3</td>\n",
       "      <td>0</td>\n",
       "      <td>3</td>\n",
       "    </tr>\n",
       "    <tr>\n",
       "      <th>2020-03-27 22:14:55</th>\n",
       "      <td>122</td>\n",
       "      <td>3</td>\n",
       "      <td>0</td>\n",
       "      <td>4</td>\n",
       "    </tr>\n",
       "    <tr>\n",
       "      <th>2020-03-28 23:05:00</th>\n",
       "      <td>140</td>\n",
       "      <td>3</td>\n",
       "      <td>0</td>\n",
       "      <td>5</td>\n",
       "    </tr>\n",
       "    <tr>\n",
       "      <th>2020-03-29 23:08:00</th>\n",
       "      <td>154</td>\n",
       "      <td>3</td>\n",
       "      <td>0</td>\n",
       "      <td>6</td>\n",
       "    </tr>\n",
       "    <tr>\n",
       "      <th>2020-03-30 22:52:00</th>\n",
       "      <td>168</td>\n",
       "      <td>3</td>\n",
       "      <td>0</td>\n",
       "      <td>7</td>\n",
       "    </tr>\n",
       "    <tr>\n",
       "      <th>2020-03-31 23:43:56</th>\n",
       "      <td>186</td>\n",
       "      <td>3</td>\n",
       "      <td>0</td>\n",
       "      <td>8</td>\n",
       "    </tr>\n",
       "    <tr>\n",
       "      <th>2020-04-01 21:58:49</th>\n",
       "      <td>189</td>\n",
       "      <td>3</td>\n",
       "      <td>0</td>\n",
       "      <td>9</td>\n",
       "    </tr>\n",
       "    <tr>\n",
       "      <th>2020-04-02 23:25:00</th>\n",
       "      <td>211</td>\n",
       "      <td>4</td>\n",
       "      <td>0</td>\n",
       "      <td>10</td>\n",
       "    </tr>\n",
       "    <tr>\n",
       "      <th>2020-04-03 22:46:37</th>\n",
       "      <td>228</td>\n",
       "      <td>4</td>\n",
       "      <td>0</td>\n",
       "      <td>11</td>\n",
       "    </tr>\n",
       "    <tr>\n",
       "      <th>2020-04-04 23:34:00</th>\n",
       "      <td>228</td>\n",
       "      <td>4</td>\n",
       "      <td>0</td>\n",
       "      <td>12</td>\n",
       "    </tr>\n",
       "    <tr>\n",
       "      <th>2020-04-05 23:06:45</th>\n",
       "      <td>259</td>\n",
       "      <td>4</td>\n",
       "      <td>0</td>\n",
       "      <td>13</td>\n",
       "    </tr>\n",
       "    <tr>\n",
       "      <th>2020-04-06 23:22:00</th>\n",
       "      <td>259</td>\n",
       "      <td>4</td>\n",
       "      <td>0</td>\n",
       "      <td>14</td>\n",
       "    </tr>\n",
       "    <tr>\n",
       "      <th>2020-04-07 23:04:49</th>\n",
       "      <td>271</td>\n",
       "      <td>5</td>\n",
       "      <td>0</td>\n",
       "      <td>15</td>\n",
       "    </tr>\n",
       "    <tr>\n",
       "      <th>2020-04-08 22:51:58</th>\n",
       "      <td>282</td>\n",
       "      <td>6</td>\n",
       "      <td>0</td>\n",
       "      <td>16</td>\n",
       "    </tr>\n",
       "    <tr>\n",
       "      <th>2020-04-09 23:02:37</th>\n",
       "      <td>311</td>\n",
       "      <td>6</td>\n",
       "      <td>0</td>\n",
       "      <td>17</td>\n",
       "    </tr>\n",
       "    <tr>\n",
       "      <th>2020-04-10 22:54:07</th>\n",
       "      <td>311</td>\n",
       "      <td>6</td>\n",
       "      <td>0</td>\n",
       "      <td>18</td>\n",
       "    </tr>\n",
       "    <tr>\n",
       "      <th>2020-04-11 22:45:33</th>\n",
       "      <td>320</td>\n",
       "      <td>6</td>\n",
       "      <td>0</td>\n",
       "      <td>19</td>\n",
       "    </tr>\n",
       "    <tr>\n",
       "      <th>2020-04-12 23:18:00</th>\n",
       "      <td>348</td>\n",
       "      <td>6</td>\n",
       "      <td>0</td>\n",
       "      <td>20</td>\n",
       "    </tr>\n",
       "    <tr>\n",
       "      <th>2020-04-13 23:07:54</th>\n",
       "      <td>360</td>\n",
       "      <td>7</td>\n",
       "      <td>0</td>\n",
       "      <td>21</td>\n",
       "    </tr>\n",
       "    <tr>\n",
       "      <th>2020-04-14 23:33:31</th>\n",
       "      <td>365</td>\n",
       "      <td>7</td>\n",
       "      <td>0</td>\n",
       "      <td>22</td>\n",
       "    </tr>\n",
       "  </tbody>\n",
       "</table>\n",
       "</div>"
      ],
      "text/plain": [
       "                     confirmed  deaths  recovered  days\n",
       "2020-03-23 23:19:34         69       1          0     0\n",
       "2020-03-24 23:37:31         76       2          0     1\n",
       "2020-03-25 23:33:19         96       2          0     2\n",
       "2020-03-26 23:48:35        104       3          0     3\n",
       "2020-03-27 22:14:55        122       3          0     4\n",
       "2020-03-28 23:05:00        140       3          0     5\n",
       "2020-03-29 23:08:00        154       3          0     6\n",
       "2020-03-30 22:52:00        168       3          0     7\n",
       "2020-03-31 23:43:56        186       3          0     8\n",
       "2020-04-01 21:58:49        189       3          0     9\n",
       "2020-04-02 23:25:00        211       4          0    10\n",
       "2020-04-03 22:46:37        228       4          0    11\n",
       "2020-04-04 23:34:00        228       4          0    12\n",
       "2020-04-05 23:06:45        259       4          0    13\n",
       "2020-04-06 23:22:00        259       4          0    14\n",
       "2020-04-07 23:04:49        271       5          0    15\n",
       "2020-04-08 22:51:58        282       6          0    16\n",
       "2020-04-09 23:02:37        311       6          0    17\n",
       "2020-04-10 22:54:07        311       6          0    18\n",
       "2020-04-11 22:45:33        320       6          0    19\n",
       "2020-04-12 23:18:00        348       6          0    20\n",
       "2020-04-13 23:07:54        360       7          0    21\n",
       "2020-04-14 23:33:31        365       7          0    22"
      ]
     },
     "execution_count": 9,
     "metadata": {},
     "output_type": "execute_result"
    }
   ],
   "source": [
    "ddf"
   ]
  },
  {
   "cell_type": "code",
   "execution_count": 10,
   "metadata": {},
   "outputs": [
    {
     "name": "stderr",
     "output_type": "stream",
     "text": [
      "[INFO]\t2020-04-16 21:37:49,480\t25 results received in 0 seconds\n"
     ]
    }
   ],
   "source": [
    "q = G.query().V(\"41067\").out(\"census\").has(gripql.eq(\"gender\", None)).render([\"population\"])\n",
    "population = sum(list(a[0] for a in q))"
   ]
  },
  {
   "cell_type": "code",
   "execution_count": 11,
   "metadata": {},
   "outputs": [
    {
     "data": {
      "text/plain": [
       "{'vertex_labels': ['CensusReport', 'SummaryLocation', 'SummaryReport'],\n",
       " 'edge_labels': ['census', 'census_of', 'performed_at', 'summary_reports']}"
      ]
     },
     "execution_count": 11,
     "metadata": {},
     "output_type": "execute_result"
    }
   ],
   "source": [
    "G.listLabels()"
   ]
  },
  {
   "cell_type": "code",
   "execution_count": null,
   "metadata": {},
   "outputs": [],
   "source": []
  },
  {
   "cell_type": "code",
   "execution_count": 12,
   "metadata": {},
   "outputs": [],
   "source": [
    "import matplotlib.pyplot as plt\n",
    "import numpy as np\n",
    "from scipy.integrate import odeint\n",
    "from scipy.optimize import minimize"
   ]
  },
  {
   "cell_type": "code",
   "execution_count": 13,
   "metadata": {},
   "outputs": [
    {
     "data": {
      "text/plain": [
       "[<matplotlib.lines.Line2D at 0x1182a86d0>]"
      ]
     },
     "execution_count": 13,
     "metadata": {},
     "output_type": "execute_result"
    },
    {
     "data": {
      "image/png": "[encoded data removed]",
      "text/plain": [
       "<Figure size 432x288 with 1 Axes>"
      ]
     },
     "metadata": {
      "needs_background": "light"
     },
     "output_type": "display_data"
    }
   ],
   "source": [
    "plt.plot(ddf['days'], df['confirmed'])"
   ]
  },
  {
   "cell_type": "code",
   "execution_count": 14,
   "metadata": {},
   "outputs": [],
   "source": [
    "# Based on model found at https://github.com/omerka-weizmann/2_day_workweek/blob/master/code.ipynb\n",
    "def SEIR_model(y,t,config):\n",
    "    \"\"\"\n",
    "    SEIR model\n",
    "    @y,t: - variables for the differential equations\n",
    "    @config: include - rates beta,gamma for differential equations\n",
    "    @rfunuc: a function that maps time to viral reproduction rate\n",
    "    \"\"\"\n",
    "    S,E,I,R = y\n",
    "    Tinc,Tinf = config[\"Tinc\"],config[\"Tinf\"]\n",
    "    Rt = config[\"Rt\"]\n",
    "    dydt = [-Rt/Tinf * (I*S),\n",
    "            Rt/Tinf * (I*S) - (1/Tinc)*E,\n",
    "            (1/Tinc)*E - (1/Tinf)*I,\n",
    "            (1/Tinf)*I]\n",
    "    return dydt"
   ]
  },
  {
   "cell_type": "code",
   "execution_count": 15,
   "metadata": {},
   "outputs": [],
   "source": [
    "Tinc = 3\n",
    "Tinf = 15\n",
    "startI = 0.00005\n",
    "\n",
    "tmax = ddf['days'].max()+1\n",
    "t = np.linspace(1,tmax,tmax)\n",
    "config = {'Rt' : 3.0, 'Tinc': Tinc, 'Tinf': Tinf, 'beta': 0.25, 'gamma': 0.25}\n",
    "SEIR_y0 = [1-startI,startI/2,startI/2,0]\n",
    "\n",
    "modelOutput = odeint(SEIR_model, SEIR_y0, t, args=(config,), atol=1e-12, rtol=1e-12)\n",
    "    "
   ]
  },
  {
   "cell_type": "code",
   "execution_count": 16,
   "metadata": {},
   "outputs": [],
   "source": [
    "modelSums = pandas.DataFrame(modelOutput[:,[1,2,3]]).sum(axis=1)"
   ]
  },
  {
   "cell_type": "code",
   "execution_count": 17,
   "metadata": {},
   "outputs": [
    {
     "data": {
      "text/plain": [
       "[<matplotlib.lines.Line2D at 0x125ef3cd0>]"
      ]
     },
     "execution_count": 17,
     "metadata": {},
     "output_type": "execute_result"
    },
    {
     "data": {
      "image/png": "[encoded data removed]",
      "text/plain": [
       "<Figure size 432x288 with 1 Axes>"
      ]
     },
     "metadata": {
      "needs_background": "light"
     },
     "output_type": "display_data"
    }
   ],
   "source": [
    "plt.plot(ddf['days'], ddf['confirmed'])\n",
    "plt.plot(ddf['days'], modelSums[ddf['days']] * population )"
   ]
  },
  {
   "cell_type": "code",
   "execution_count": 18,
   "metadata": {},
   "outputs": [
    {
     "data": {
      "text/plain": [
       "0      39.492450\n",
       "1      43.174918\n",
       "2      59.201916\n",
       "3      62.643499\n",
       "4      75.525109\n",
       "5      87.843219\n",
       "6      95.574759\n",
       "7     102.682710\n",
       "8     113.119345\n",
       "9     107.828010\n",
       "10    120.743982\n",
       "11    127.794759\n",
       "12    116.899964\n",
       "13    135.970989\n",
       "14    122.910462\n",
       "15    120.611563\n",
       "16    115.957224\n",
       "17    127.819216\n",
       "18    109.057130\n",
       "19     97.517248\n",
       "20    103.031304\n",
       "21     90.415121\n",
       "22     68.467114\n",
       "dtype: float64"
      ]
     },
     "execution_count": 18,
     "metadata": {},
     "output_type": "execute_result"
    }
   ],
   "source": [
    "ddf['confirmed'].values - (modelSums[ddf['days']] * population)"
   ]
  },
  {
   "cell_type": "code",
   "execution_count": 87,
   "metadata": {},
   "outputs": [],
   "source": [
    "def calc_delta(df, R=3.0, Tinc=3, Tinf=15, startI=0.00005, beta=0.25, gamma=0.25, Toffset=0):\n",
    "    tmax = df['days'].max()+1+Toffset\n",
    "    t = np.linspace(1,tmax,tmax)\n",
    "    config = {'Rt' : R, 'Tinc': Tinc, 'Tinf': Tinf, 'beta': 0.25, 'gamma': 0.25}\n",
    "    SEIR_y0 = [1-startI,startI/2,startI/2,0]\n",
    "    \n",
    "    print(config)\n",
    "\n",
    "    modelOutput = odeint(SEIR_model, SEIR_y0, t, args=(config,), atol=1e-12, rtol=1e-12)\n",
    "    # exposed + infected + recovered \n",
    "    modelSums = pandas.DataFrame(modelOutput[:,[1,2,3]]).sum(axis=1)\n",
    "    # compare to confirmed numbers\n",
    "    delta = np.sum(np.power(df['confirmed'].values - (modelSums[df['days']+Toffset] * population),2))\n",
    "    print(delta)\n",
    "    return delta"
   ]
  },
  {
   "cell_type": "code",
   "execution_count": 89,
   "metadata": {},
   "outputs": [
    {
     "name": "stdout",
     "output_type": "stream",
     "text": [
      "{'Rt': 2.6, 'Tinc': 3, 'Tinf': 15, 'beta': 0.25, 'gamma': 0.25}\n",
      "112200.77776798235\n"
     ]
    },
    {
     "data": {
      "text/plain": [
       "112200.77776798235"
      ]
     },
     "execution_count": 89,
     "metadata": {},
     "output_type": "execute_result"
    }
   ],
   "source": [
    "calc_delta(ddf, R=2.6, Toffset=5)\n"
   ]
  },
  {
   "cell_type": "code",
   "execution_count": 90,
   "metadata": {},
   "outputs": [
    {
     "name": "stdout",
     "output_type": "stream",
     "text": [
      "{'Rt': 3.0, 'Tinc': 3, 'Tinf': 15, 'beta': 0.25, 'gamma': 0.25}\n",
      "55755.57898798663\n",
      "{'Rt': 3.00000001, 'Tinc': 3, 'Tinf': 15, 'beta': 0.25, 'gamma': 0.25}\n",
      "55755.58004834627\n",
      "{'Rt': 1.0, 'Tinc': 3, 'Tinf': 15, 'beta': 0.25, 'gamma': 0.25}\n",
      "780066.0980877717\n",
      "{'Rt': 1.00000001, 'Tinc': 3, 'Tinf': 15, 'beta': 0.25, 'gamma': 0.25}\n",
      "780066.0948056707\n",
      "{'Rt': 2.8856461263772695, 'Tinc': 3, 'Tinf': 15, 'beta': 0.25, 'gamma': 0.25}\n",
      "53461.390149150895\n",
      "{'Rt': 2.8856461363772694, 'Tinc': 3, 'Tinf': 15, 'beta': 0.25, 'gamma': 0.25}\n",
      "53461.38955868635\n",
      "{'Rt': 2.9265480638899053, 'Tinc': 3, 'Tinf': 15, 'beta': 0.25, 'gamma': 0.25}\n",
      "52141.052988511125\n",
      "{'Rt': 2.9265480738899052, 'Tinc': 3, 'Tinf': 15, 'beta': 0.25, 'gamma': 0.25}\n",
      "52141.05294161367\n",
      "{'Rt': 2.930076969095161, 'Tinc': 3, 'Tinf': 15, 'beta': 0.25, 'gamma': 0.25}\n",
      "52133.18470333635\n",
      "{'Rt': 2.930076979095161, 'Tinc': 3, 'Tinf': 15, 'beta': 0.25, 'gamma': 0.25}\n",
      "52133.18470569595\n",
      "{'Rt': 2.92990792110805, 'Tinc': 3, 'Tinf': 15, 'beta': 0.25, 'gamma': 0.25}\n",
      "52133.16481163363\n",
      "{'Rt': 2.92990793110805, 'Tinc': 3, 'Tinf': 15, 'beta': 0.25, 'gamma': 0.25}\n",
      "52133.16481162914\n",
      "{'Rt': 2.9299082421201454, 'Tinc': 3, 'Tinf': 15, 'beta': 0.25, 'gamma': 0.25}\n",
      "52133.16481147264\n",
      "{'Rt': 2.9299082521201454, 'Tinc': 3, 'Tinf': 15, 'beta': 0.25, 'gamma': 0.25}\n",
      "52133.164811472016\n",
      "{'Rt': 2.929908294110805, 'Tinc': 3, 'Tinf': 15, 'beta': 0.25, 'gamma': 0.25}\n",
      "52133.1648114621\n",
      "{'Rt': 2.9299083041108047, 'Tinc': 3, 'Tinf': 15, 'beta': 0.25, 'gamma': 0.25}\n",
      "52133.16481145587\n",
      "{'Rt': 2.929908502073442, 'Tinc': 3, 'Tinf': 15, 'beta': 0.25, 'gamma': 0.25}\n",
      "52133.16481144943\n",
      "{'Rt': 2.929908512073442, 'Tinc': 3, 'Tinf': 15, 'beta': 0.25, 'gamma': 0.25}\n",
      "52133.16481144746\n",
      "{'Rt': 2.9299093339239914, 'Tinc': 3, 'Tinf': 15, 'beta': 0.25, 'gamma': 0.25}\n",
      "52133.16481200527\n",
      "{'Rt': 2.9299093439239914, 'Tinc': 3, 'Tinf': 15, 'beta': 0.25, 'gamma': 0.25}\n",
      "52133.164812016505\n",
      "{'Rt': 2.9299085689634192, 'Tinc': 3, 'Tinf': 15, 'beta': 0.25, 'gamma': 0.25}\n",
      "52133.16481145731\n",
      "{'Rt': 2.929908578963419, 'Tinc': 3, 'Tinf': 15, 'beta': 0.25, 'gamma': 0.25}\n",
      "52133.164811456736\n",
      "{'Rt': 2.929908511468016, 'Tinc': 3, 'Tinf': 15, 'beta': 0.25, 'gamma': 0.25}\n",
      "52133.164811448594\n",
      "{'Rt': 2.929908521468016, 'Tinc': 3, 'Tinf': 15, 'beta': 0.25, 'gamma': 0.25}\n",
      "52133.16481144978\n",
      "{'Rt': 2.929908511468016, 'Tinc': 3, 'Tinf': 15, 'beta': 0.25, 'gamma': 0.25}\n",
      "52133.164811448594\n",
      "{'Rt': 2.929908521468016, 'Tinc': 3, 'Tinf': 15, 'beta': 0.25, 'gamma': 0.25}\n",
      "52133.16481144978\n"
     ]
    }
   ],
   "source": [
    "out = minimize(lambda x: calc_delta(ddf, R=x[0], Toffset=5), (3), bounds=((1,5),), method=\"L-BFGS-B\", options={\"ftol\":1e-12})"
   ]
  },
  {
   "cell_type": "code",
   "execution_count": 115,
   "metadata": {},
   "outputs": [
    {
     "data": {
      "text/plain": [
       "[<matplotlib.lines.Line2D at 0x1295c3810>]"
      ]
     },
     "execution_count": 115,
     "metadata": {},
     "output_type": "execute_result"
    },
    {
     "data": {
      "image/png": "[encoded data removed]",
      "text/plain": [
       "<Figure size 432x288 with 1 Axes>"
      ]
     },
     "metadata": {
      "needs_background": "light"
     },
     "output_type": "display_data"
    }
   ],
   "source": [
    "Tinc = 3\n",
    "Tinf = 15\n",
    "startI = 0.00005\n",
    "Rt = 2.9\n",
    "Toffset = 5\n",
    "tmax = ddf['days'].max()+1+Toffset\n",
    "t = np.linspace(1,tmax,tmax)\n",
    "config = {'Rt' : Rt, 'Tinc': Tinc, 'Tinf': Tinf, 'beta': 0.25, 'gamma': 0.25}\n",
    "SEIR_y0 = [1-startI,startI/2,startI/2,0]\n",
    "\n",
    "\n",
    "modelOutput = odeint(SEIR_model, SEIR_y0, t, args=(config,), atol=1e-12, rtol=1e-12)\n",
    "modelSums = pandas.DataFrame(modelOutput[:,[1,2,3]]).sum(axis=1)\n",
    "\n",
    "plt.plot(ddf['days'], ddf['confirmed'])\n",
    "plt.plot(t-1-Toffset, modelSums[t-1] * population )"
   ]
  },
  {
   "cell_type": "code",
   "execution_count": 94,
   "metadata": {},
   "outputs": [
    {
     "data": {
      "text/plain": [
       "[<matplotlib.lines.Line2D at 0x12847d710>]"
      ]
     },
     "execution_count": 94,
     "metadata": {},
     "output_type": "execute_result"
    },
    {
     "data": {
      "image/png": "[encoded data removed]",
      "text/plain": [
       "<Figure size 432x288 with 1 Axes>"
      ]
     },
     "metadata": {
      "needs_background": "light"
     },
     "output_type": "display_data"
    }
   ],
   "source": [
    "plt.plot(ddf['days'], ddf['confirmed'])\n",
    "plt.plot(ddf['days'] - 5, modelSums[ddf['days']] * population )"
   ]
  },
  {
   "cell_type": "code",
   "execution_count": null,
   "metadata": {},
   "outputs": [],
   "source": []
  }
 ],
 "metadata": {
  "kernelspec": {
   "display_name": "Python 3",
   "language": "python",
   "name": "python3"
  },
  "language_info": {
   "codemirror_mode": {
    "name": "ipython",
    "version": 3
   },
   "file_extension": ".py",
   "mimetype": "text/x-python",
   "name": "python",
   "nbconvert_exporter": "python",
   "pygments_lexer": "ipython3",
   "version": "3.7.7"
  }
 },
 "nbformat": 4,
 "nbformat_minor": 4
}
